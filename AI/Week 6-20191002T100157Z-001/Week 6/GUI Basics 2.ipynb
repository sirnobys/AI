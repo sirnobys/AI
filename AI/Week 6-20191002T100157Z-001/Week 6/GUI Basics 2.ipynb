{
 "cells": [
  {
   "cell_type": "markdown",
   "metadata": {},
   "source": [
    "# Getting started with Videos"
   ]
  },
  {
   "cell_type": "code",
   "execution_count": 1,
   "metadata": {
    "collapsed": true
   },
   "outputs": [],
   "source": [
    "import numpy as np\n",
    "import cv2"
   ]
  },
  {
   "cell_type": "markdown",
   "metadata": {},
   "source": [
    "### Opening a video stream"
   ]
  },
  {
   "cell_type": "code",
   "execution_count": 2,
   "metadata": {
    "collapsed": true
   },
   "outputs": [],
   "source": [
    "cap = cv2.VideoCapture(0)\n",
    "\n",
    "while (True):\n",
    "    #capturing frame by frame\n",
    "    ret, frame = cap.read()\n",
    "    \n",
    "    cv2.imshow('Live Stream', frame)\n",
    "    \n",
    "    if cv2.waitKey(1) == ord('q'): # press q to quit\n",
    "        break\n",
    "        \n",
    "cap.release() # video has to be released after being used\n",
    "cv2.destroyAllWindows()"
   ]
  },
  {
   "cell_type": "markdown",
   "metadata": {},
   "source": [
    "### Opening a grayscale video stream"
   ]
  },
  {
   "cell_type": "code",
   "execution_count": 3,
   "metadata": {
    "collapsed": false
   },
   "outputs": [],
   "source": [
    "cap = cv2.VideoCapture(0)\n",
    "\n",
    "while (True):\n",
    "    #capturing frame by frame\n",
    "    ret, frame = cap.read()\n",
    "    \n",
    "    gray = cv2.cvtColor(frame, cv2.COLOR_BGR2GRAY)\n",
    "    \n",
    "    cv2.imshow('Live Stream', gray)\n",
    "    \n",
    "    if cv2.waitKey(1) == ord('q'): # try giving a waitKey value of 0 and 1000 and observe what happens.\n",
    "        break\n",
    "        \n",
    "cap.release()\n",
    "cv2.destroyAllWindows()"
   ]
  },
  {
   "cell_type": "markdown",
   "metadata": {},
   "source": [
    "### Playing video from a file"
   ]
  },
  {
   "cell_type": "code",
   "execution_count": 9,
   "metadata": {
    "collapsed": false
   },
   "outputs": [],
   "source": [
    "cap = cv2.VideoCapture('dance.mp4')\n",
    "\n",
    "while (True):\n",
    "    #capturing frame by frame\n",
    "    ret, frame = cap.read()\n",
    "    \n",
    "    cv2.namedWindow('Live Stream', cv2.WINDOW_NORMAL)\n",
    "    cv2.imshow('Live Stream', frame)\n",
    "    \n",
    "    if cv2.waitKey(30) == ord('q'):\n",
    "        break\n",
    "        \n",
    "cap.release()\n",
    "cv2.destroyAllWindows()"
   ]
  },
  {
   "cell_type": "markdown",
   "metadata": {},
   "source": [
    "### Saving a video"
   ]
  },
  {
   "cell_type": "code",
   "execution_count": 10,
   "metadata": {
    "collapsed": false
   },
   "outputs": [],
   "source": [
    "cap = cv2.VideoCapture(0)\n",
    "\n",
    "# Define the codec and create VideoWriter object \n",
    "fourcc = cv2.VideoWriter_fourcc('X','V','I','D') \n",
    "\n",
    "# file name, media codec number of frames per sec, frame size\n",
    "out = cv2.VideoWriter('output.avi',fourcc, 1.0, (640, 480))\n",
    "\n",
    "while(cap.isOpened()):\n",
    "    ret, frame = cap.read() \n",
    "    if ret==True: \n",
    "        cv2.imshow('frame',frame) \n",
    "        if cv2.waitKey(1) == ord('q'):\n",
    "            break           \n",
    "    else: \n",
    "        break\n",
    "# Release everything if job is finished \n",
    "cap.release() \n",
    "out.release() \n",
    "cv2.destroyAllWindows()"
   ]
  },
  {
   "cell_type": "code",
   "execution_count": null,
   "metadata": {
    "collapsed": true
   },
   "outputs": [],
   "source": []
  },
  {
   "cell_type": "code",
   "execution_count": null,
   "metadata": {
    "collapsed": true
   },
   "outputs": [],
   "source": []
  }
 ],
 "metadata": {
  "kernelspec": {
   "display_name": "Python 2",
   "language": "python",
   "name": "python2"
  },
  "language_info": {
   "codemirror_mode": {
    "name": "ipython",
    "version": 2
   },
   "file_extension": ".py",
   "mimetype": "text/x-python",
   "name": "python",
   "nbconvert_exporter": "python",
   "pygments_lexer": "ipython2",
   "version": "2.7.11"
  }
 },
 "nbformat": 4,
 "nbformat_minor": 0
}
