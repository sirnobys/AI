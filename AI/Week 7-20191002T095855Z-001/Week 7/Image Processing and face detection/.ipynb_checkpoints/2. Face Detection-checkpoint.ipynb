{
 "cells": [
  {
   "cell_type": "markdown",
   "metadata": {},
   "source": [
    "## Face Detection"
   ]
  },
  {
   "cell_type": "code",
   "execution_count": null,
   "metadata": {
    "collapsed": true
   },
   "outputs": [],
   "source": [
    "import numpy as np\n",
    "import cv2"
   ]
  },
  {
   "cell_type": "markdown",
   "metadata": {},
   "source": [
    "### One Face"
   ]
  },
  {
   "cell_type": "code",
   "execution_count": 7,
   "metadata": {
    "collapsed": true
   },
   "outputs": [],
   "source": [
    "face_cascade = cv2.CascadeClassifier('../models/haarcascade_frontalface_default.xml')"
   ]
  },
  {
   "cell_type": "code",
   "execution_count": 14,
   "metadata": {
    "collapsed": true
   },
   "outputs": [],
   "source": [
    "img = cv2.imread('../imgs/aseda.jpg')\n",
    "\n",
    "scaleX = 0.2\n",
    "scaleY = 0.2\n",
    "scaleDown = cv2.resize(img, None, fx= scaleX, fy= scaleY, interpolation= cv2.INTER_LINEAR)"
   ]
  },
  {
   "cell_type": "code",
   "execution_count": 15,
   "metadata": {},
   "outputs": [
    {
     "name": "stdout",
     "output_type": "stream",
     "text": [
      "[[492 274 140 140]]\n"
     ]
    }
   ],
   "source": [
    "faces = face_cascade.detectMultiScale(scaleDown, 1.3, 5)\n",
    "print(faces)"
   ]
  },
  {
   "cell_type": "code",
   "execution_count": 16,
   "metadata": {
    "collapsed": true
   },
   "outputs": [],
   "source": [
    "for (x,y,w,h) in faces:\n",
    "    cv2.rectangle(scaleDown,(x,y),(x+w,y+h),(255,0,0),2)\n",
    "    \n",
    "cv2.imshow('img',scaleDown)\n",
    "cv2.waitKey(0)\n",
    "cv2.destroyAllWindows()"
   ]
  },
  {
   "cell_type": "markdown",
   "metadata": {},
   "source": [
    "### Many Faces"
   ]
  },
  {
   "cell_type": "code",
   "execution_count": 40,
   "metadata": {
    "collapsed": true
   },
   "outputs": [],
   "source": [
    "maxNeigh = 10\n",
    "maxscaleFactor = 3.0\n",
    "#scaleX = 0.5\n",
    "#scaleY = 0.5\n",
    "\n",
    "for neigh in range(1,maxNeigh,1):\n",
    "    img2 = cv2.imread('../imgs/faces.jpg')\n",
    "    #scaleDown2 = cv2.resize(img2, None, fx= scaleX, fy= scaleY, interpolation= cv2.INTER_LINEAR)\n",
    "    faces2 = face_cascade.detectMultiScale(img2, 1.3, neigh)\n",
    "\n",
    "    for (x,y,w,h) in faces2:\n",
    "        cv2.rectangle(img2,(x,y),(x+w,y+h),(255,0,0),2)\n",
    "    \n",
    "    cv2.putText(img2, \"# Neighbors = {}\".format(neigh), (10, 50), cv2.FONT_HERSHEY_SIMPLEX, 1, (0, 0, 255), 1)\n",
    "    cv2.imshow('img',img2)\n",
    "    cv2.waitKey(0)\n",
    "\n",
    "cv2.destroyAllWindows()"
   ]
  },
  {
   "cell_type": "code",
   "execution_count": null,
   "metadata": {
    "collapsed": true,
    "scrolled": true
   },
   "outputs": [],
   "source": []
  },
  {
   "cell_type": "code",
   "execution_count": null,
   "metadata": {
    "collapsed": true
   },
   "outputs": [],
   "source": []
  },
  {
   "cell_type": "code",
   "execution_count": null,
   "metadata": {
    "collapsed": true
   },
   "outputs": [],
   "source": []
  },
  {
   "cell_type": "code",
   "execution_count": null,
   "metadata": {
    "collapsed": true
   },
   "outputs": [],
   "source": []
  }
 ],
 "metadata": {
  "kernelspec": {
   "display_name": "Python 3",
   "language": "python",
   "name": "python3"
  },
  "language_info": {
   "codemirror_mode": {
    "name": "ipython",
    "version": 3
   },
   "file_extension": ".py",
   "mimetype": "text/x-python",
   "name": "python",
   "nbconvert_exporter": "python",
   "pygments_lexer": "ipython3",
   "version": "3.6.3"
  }
 },
 "nbformat": 4,
 "nbformat_minor": 2
}
