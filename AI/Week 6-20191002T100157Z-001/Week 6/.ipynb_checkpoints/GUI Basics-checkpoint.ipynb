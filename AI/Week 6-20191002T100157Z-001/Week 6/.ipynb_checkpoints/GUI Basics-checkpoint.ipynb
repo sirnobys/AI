{
 "cells": [
  {
   "cell_type": "markdown",
   "metadata": {},
   "source": [
    "# Image GUI Basics"
   ]
  },
  {
   "cell_type": "code",
   "execution_count": 35,
   "metadata": {
    "collapsed": true
   },
   "outputs": [],
   "source": [
    "#import numpy and cv2\n",
    "import numpy as np\n",
    "import cv2"
   ]
  },
  {
   "cell_type": "code",
   "execution_count": 36,
   "metadata": {},
   "outputs": [
    {
     "data": {
      "text/plain": [
       "'3.4.1'"
      ]
     },
     "execution_count": 36,
     "metadata": {},
     "output_type": "execute_result"
    }
   ],
   "source": [
    "#printing version of open cv\n",
    "cv2.__version__"
   ]
  },
  {
   "cell_type": "markdown",
   "metadata": {},
   "source": [
    "### Reading in an image (preserving color)"
   ]
  },
  {
   "cell_type": "code",
   "execution_count": 21,
   "metadata": {},
   "outputs": [],
   "source": [
    "# the flag 1 is to read the image in color\n",
    "img = cv2.imread('image.jpeg', 1)"
   ]
  },
  {
   "cell_type": "code",
   "execution_count": 37,
   "metadata": {},
   "outputs": [
    {
     "data": {
      "text/plain": [
       "array([[[ 30,  91,  65],\n",
       "        [ 25,  83,  58],\n",
       "        [ 25,  81,  60],\n",
       "        ...,\n",
       "        [ 20,  48,  59],\n",
       "        [ 39,  65,  79],\n",
       "        [ 53,  78,  94]],\n",
       "\n",
       "       [[ 29,  93,  64],\n",
       "        [ 24,  85,  59],\n",
       "        [ 25,  81,  58],\n",
       "        ...,\n",
       "        [ 36,  65,  74],\n",
       "        [ 35,  61,  73],\n",
       "        [ 47,  73,  87]],\n",
       "\n",
       "       [[ 28,  94,  65],\n",
       "        [ 23,  87,  58],\n",
       "        [ 25,  83,  59],\n",
       "        ...,\n",
       "        [ 97, 126, 133],\n",
       "        [ 58,  85,  95],\n",
       "        [ 35,  61,  73]],\n",
       "\n",
       "       ...,\n",
       "\n",
       "       [[ 73,  99, 135],\n",
       "        [ 84, 110, 146],\n",
       "        [ 87, 113, 149],\n",
       "        ...,\n",
       "        [110, 153, 138],\n",
       "        [116, 161, 145],\n",
       "        [122, 167, 151]],\n",
       "\n",
       "       [[ 84, 110, 146],\n",
       "        [ 88, 114, 150],\n",
       "        [ 87, 113, 149],\n",
       "        ...,\n",
       "        [ 62, 101,  93],\n",
       "        [ 69, 108, 100],\n",
       "        [ 74, 113, 105]],\n",
       "\n",
       "       [[107, 133, 170],\n",
       "        [102, 128, 165],\n",
       "        [ 99, 125, 162],\n",
       "        ...,\n",
       "        [ 28,  63,  59],\n",
       "        [ 38,  73,  69],\n",
       "        [ 40,  74,  73]]], dtype=uint8)"
      ]
     },
     "execution_count": 37,
     "metadata": {},
     "output_type": "execute_result"
    }
   ],
   "source": [
    "#images are seen as numpy arrays in image processing with open cv\n",
    "img"
   ]
  },
  {
   "cell_type": "code",
   "execution_count": 38,
   "metadata": {},
   "outputs": [
    {
     "data": {
      "text/plain": [
       "(719L, 1080L, 3L)"
      ]
     },
     "execution_count": 38,
     "metadata": {},
     "output_type": "execute_result"
    }
   ],
   "source": [
    "#printing the shape of the image array\n",
    "#3D shape shows that the image is a coloured image.\n",
    "#The 3rd channel shows the BGR values of each pixel.\n",
    "img.shape"
   ]
  },
  {
   "cell_type": "code",
   "execution_count": 40,
   "metadata": {},
   "outputs": [],
   "source": [
    "#showing the image\n",
    "cv2.imshow(\"Colour Image\", img)\n",
    "\n",
    "#these commands wait for a key to be pressed\n",
    "cv2.waitKey(0)\n",
    "cv2.destroyAllWindows()"
   ]
  },
  {
   "cell_type": "markdown",
   "metadata": {},
   "source": [
    "### Reading in an image (grayscale / black and white)"
   ]
  },
  {
   "cell_type": "code",
   "execution_count": 41,
   "metadata": {},
   "outputs": [],
   "source": [
    "# the flag 0 is to read the image in grayscale\n",
    "img2 = cv2.imread('image.jpeg', 0)"
   ]
  },
  {
   "cell_type": "code",
   "execution_count": 42,
   "metadata": {},
   "outputs": [
    {
     "data": {
      "text/plain": [
       "array([[ 76,  69,  68, ...,  48,  66,  80],\n",
       "       [ 77,  70,  68, ...,  64,  62,  74],\n",
       "       [ 78,  71,  69, ..., 125,  85,  62],\n",
       "       ...,\n",
       "       [107, 118, 121, ..., 144, 151, 157],\n",
       "       [118, 122, 121, ...,  94, 101, 106],\n",
       "       [141, 136, 133, ...,  58,  68,  70]], dtype=uint8)"
      ]
     },
     "execution_count": 42,
     "metadata": {},
     "output_type": "execute_result"
    }
   ],
   "source": [
    "img2"
   ]
  },
  {
   "cell_type": "code",
   "execution_count": 43,
   "metadata": {},
   "outputs": [
    {
     "data": {
      "text/plain": [
       "(719L, 1080L)"
      ]
     },
     "execution_count": 43,
     "metadata": {},
     "output_type": "execute_result"
    }
   ],
   "source": [
    "#printing the shape of the image array\n",
    "#2D shape shows that the image is a grayscale image.\n",
    "#There is no 3rd channel as image is in grayscale.\n",
    "img2.shape"
   ]
  },
  {
   "cell_type": "code",
   "execution_count": 44,
   "metadata": {},
   "outputs": [],
   "source": [
    "cv2.imshow(\"Grayscale Image\", img2)\n",
    "cv2.waitKey(0) \n",
    "cv2.destroyAllWindows()"
   ]
  },
  {
   "cell_type": "markdown",
   "metadata": {},
   "source": [
    "### Displaying image in a named window so we can resize the window"
   ]
  },
  {
   "cell_type": "code",
   "execution_count": 45,
   "metadata": {
    "collapsed": true
   },
   "outputs": [],
   "source": [
    "cv2.namedWindow('Resizable Window', cv2.WINDOW_NORMAL) \n",
    "cv2.imshow('Resizable Window',img) \n",
    "cv2.waitKey(0) \n",
    "cv2.destroyAllWindows()"
   ]
  },
  {
   "cell_type": "markdown",
   "metadata": {},
   "source": [
    "### Saving / Writing an image to disk"
   ]
  },
  {
   "cell_type": "code",
   "execution_count": 46,
   "metadata": {},
   "outputs": [
    {
     "data": {
      "text/plain": [
       "True"
      ]
     },
     "execution_count": 46,
     "metadata": {},
     "output_type": "execute_result"
    }
   ],
   "source": [
    "cv2.imwrite('image2_grayscale.jpeg',img2)"
   ]
  },
  {
   "cell_type": "code",
   "execution_count": null,
   "metadata": {},
   "outputs": [],
   "source": []
  },
  {
   "cell_type": "markdown",
   "metadata": {},
   "source": [
    "### Sensing Keystrokes\n",
    "A simple program that laods an image in grayscale, displays it and saves it when prompted or closes when user quits."
   ]
  },
  {
   "cell_type": "code",
   "execution_count": 48,
   "metadata": {},
   "outputs": [
    {
     "name": "stdout",
     "output_type": "stream",
     "text": [
      "Image saved!\n",
      "115\n"
     ]
    }
   ],
   "source": [
    "myImg = cv2.imread('butterfly.jpg',0)\n",
    "cv2.imshow('New Image', myImg)\n",
    "\n",
    "k = cv2.waitKey(0)\n",
    "if k == 27: # waits for ESC to exit (27 is integer value of the Unicode code character for ESC)\n",
    "    print(k)\n",
    "    cv2.destroyAllWindows()\n",
    "elif k == ord('s'): # waits for 's' to be pressed to save image. ord() takes a character and returns the integer value of the Unicode character.\n",
    "    cv2.imwrite('butterfly_gray.jpg', myImg)\n",
    "    print('Image saved!')\n",
    "    print(k)\n",
    "    cv2.destroyAllWindows()\n",
    "else:\n",
    "    print(\"Press 'ESC' to exit or 's' to save\")\n",
    "    cv2.destroyAllWindows()"
   ]
  },
  {
   "cell_type": "markdown",
   "metadata": {},
   "source": [
    "### Viewing an image with Matplotlib\n",
    "Color images loaded by OpenCV is in **BGR** mode. But Matplotlib displays in **RGB** mode. So color images will not be displayed correctly in Matplotlib if image is read with OpenCV"
   ]
  },
  {
   "cell_type": "code",
   "execution_count": 49,
   "metadata": {},
   "outputs": [],
   "source": [
    "import matplotlib.pyplot as plt"
   ]
  },
  {
   "cell_type": "code",
   "execution_count": 50,
   "metadata": {},
   "outputs": [],
   "source": [
    "plt.imshow(img)\n",
    "plt.xticks([]), plt.yticks([]) # to hide tick values of x and y\n",
    "plt.show()"
   ]
  },
  {
   "cell_type": "code",
   "execution_count": 51,
   "metadata": {
    "collapsed": true
   },
   "outputs": [],
   "source": [
    "plt.imshow(img)\n",
    "plt.show()"
   ]
  },
  {
   "cell_type": "code",
   "execution_count": null,
   "metadata": {
    "collapsed": true
   },
   "outputs": [],
   "source": []
  }
 ],
 "metadata": {
  "kernelspec": {
   "display_name": "Python 3",
   "language": "python",
   "name": "python3"
  },
  "language_info": {
   "codemirror_mode": {
    "name": "ipython",
    "version": 3
   },
   "file_extension": ".py",
   "mimetype": "text/x-python",
   "name": "python",
   "nbconvert_exporter": "python",
   "pygments_lexer": "ipython3",
   "version": "3.7.3"
  }
 },
 "nbformat": 4,
 "nbformat_minor": 2
}
